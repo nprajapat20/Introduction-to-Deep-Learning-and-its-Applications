{
  "nbformat": 4,
  "nbformat_minor": 0,
  "metadata": {
    "colab": {
      "name": "Narendra_A3_200623.ipynb",
      "provenance": [],
      "collapsed_sections": []
    },
    "kernelspec": {
      "name": "python3",
      "display_name": "Python 3"
    },
    "language_info": {
      "name": "python"
    }
  },
  "cells": [
    {
      "cell_type": "code",
      "execution_count": 177,
      "metadata": {
        "id": "W32gHZm3i-Lz"
      },
      "outputs": [],
      "source": [
        "import torch\n",
        "import torchvision\n",
        "import torch.nn as nn\n",
        "import torchvision.transforms as transforms\n",
        "import torchvision.datasets as dsets\n",
        "import matplotlib.pyplot as plt\n",
        "device = torch.device('cuda' if torch.cuda.is_available() else 'cpu')"
      ]
    },
    {
      "cell_type": "code",
      "source": [
        "device"
      ],
      "metadata": {
        "colab": {
          "base_uri": "https://localhost:8080/"
        },
        "id": "EZtJ7_-Qlhu2",
        "outputId": "70edbc7d-75c8-4dd1-cac7-d35c7cbcebeb"
      },
      "execution_count": 178,
      "outputs": [
        {
          "output_type": "execute_result",
          "data": {
            "text/plain": [
              "device(type='cpu')"
            ]
          },
          "metadata": {},
          "execution_count": 178
        }
      ]
    },
    {
      "cell_type": "code",
      "source": [
        "Tr_D = dsets.MNIST(root='data', \n",
        "                            train=True, \n",
        "                            transform=transforms.ToTensor(),\n",
        "                            download=True)\n",
        "\n",
        "Te_D = dsets.MNIST(root='data', \n",
        "                           train=False, \n",
        "                           transform=transforms.ToTensor(), download=True)\n",
        "print(Tr_D)\n",
        "print(Tr_D.data.size())\n",
        "print(Tr_D.targets.size())\n",
        "print(Te_D)\n",
        "print(Te_D.data.size())\n"
      ],
      "metadata": {
        "id": "BunbBW2MkpxJ",
        "colab": {
          "base_uri": "https://localhost:8080/"
        },
        "outputId": "b3b146ae-5c57-4918-d1fb-65ee141be5fb"
      },
      "execution_count": 179,
      "outputs": [
        {
          "output_type": "stream",
          "name": "stdout",
          "text": [
            "Dataset MNIST\n",
            "    Number of datapoints: 60000\n",
            "    Root location: data\n",
            "    Split: Train\n",
            "    StandardTransform\n",
            "Transform: ToTensor()\n",
            "torch.Size([60000, 28, 28])\n",
            "torch.Size([60000])\n",
            "Dataset MNIST\n",
            "    Number of datapoints: 10000\n",
            "    Root location: data\n",
            "    Split: Test\n",
            "    StandardTransform\n",
            "Transform: ToTensor()\n",
            "torch.Size([10000, 28, 28])\n"
          ]
        }
      ]
    },
    {
      "cell_type": "code",
      "source": [
        "plt.imshow(Te_D[0][0][0],cmap='gray')\n",
        "print('Label:', Te_D[0][1])\n",
        "plt.show()\n",
        "plt.imshow(Tr_D[0][0][0],cmap='gray')\n",
        "print('Label:', Tr_D[0][1])"
      ],
      "metadata": {
        "id": "QloAKdosk7Ay",
        "colab": {
          "base_uri": "https://localhost:8080/",
          "height": 549
        },
        "outputId": "a5f598a8-08ca-4429-fd93-def8eb2657f5"
      },
      "execution_count": 180,
      "outputs": [
        {
          "output_type": "stream",
          "name": "stdout",
          "text": [
            "Label: 7\n"
          ]
        },
        {
          "output_type": "display_data",
          "data": {
            "text/plain": [
              "<Figure size 432x288 with 1 Axes>"
            ],
            "image/png": "[encoded data removed]"
          },
          "metadata": {
            "needs_background": "light"
          }
        },
        {
          "output_type": "stream",
          "name": "stdout",
          "text": [
            "Label: 5\n"
          ]
        },
        {
          "output_type": "display_data",
          "data": {
            "text/plain": [
              "<Figure size 432x288 with 1 Axes>"
            ],
            "image/png": "[encoded data removed]"
          },
          "metadata": {
            "needs_background": "light"
          }
        }
      ]
    },
    {
      "cell_type": "code",
      "source": [
        "sequence_len = 28\n",
        "input_s = 28\n",
        "hidden_s = 128\n",
        "num_lay = 2\n",
        "num_classes = 10\n",
        "batch_s = 100\n",
        "num_epo = 2\n",
        "learning_rate = 0.01"
      ],
      "metadata": {
        "id": "IdplxNZetm-M"
      },
      "execution_count": 171,
      "outputs": []
    },
    {
      "cell_type": "code",
      "source": [
        "from torch.utils.data import DataLoader\n",
        "train_set = DataLoader(dataset = Te_D, batch_size = 100, shuffle = True)\n",
        "test_set = DataLoader(dataset = Tr_D, batch_size = 100, shuffle= True)"
      ],
      "metadata": {
        "id": "2TE1mIB0mw25"
      },
      "execution_count": 172,
      "outputs": []
    },
    {
      "cell_type": "code",
      "source": [
        "class RNN(nn.Module):\n",
        "\n",
        "  def __init__(self, input_s, hidden_s, num_lay, num_classes) :\n",
        "    super(RNN, self).__init__()\n",
        "    self.hidden_s =hidden_s\n",
        "    self.num_lay = num_lay\n",
        "    self.num_classes = num_classes \n",
        "    self.lstm = nn.LSTM (input_s, hidden_s, num_lay, batch_first = True)\n",
        "    self.fc = nn.Linear (hidden_s, num_classes)\n",
        "\n",
        "  def forward(self, x):\n",
        "    out,_ = self.lstm(x)\n",
        "    out = out[:,-1,:]\n",
        "    out=self.fc(out)\n",
        "    return out\n",
        "\n",
        "\n",
        "model = RNN(input_s, hidden_s, num_lay, num_classes)\n",
        "model = model.to(device)\n",
        "print(model)"
      ],
      "metadata": {
        "colab": {
          "base_uri": "https://localhost:8080/"
        },
        "id": "2KgX34h7U0Ef",
        "outputId": "db6783c8-64cb-424e-fc6f-995beca1370e"
      },
      "execution_count": 181,
      "outputs": [
        {
          "output_type": "stream",
          "name": "stdout",
          "text": [
            "RNN(\n",
            "  (lstm): LSTM(28, 128, num_layers=2, batch_first=True)\n",
            "  (fc): Linear(in_features=128, out_features=10, bias=True)\n",
            ")\n"
          ]
        }
      ]
    },
    {
      "cell_type": "code",
      "source": [
        "from torch import optim\n",
        "Optim = optim.Adam(model.parameters(), lr= 0.01) \n",
        "loss_fn = nn.CrossEntropyLoss()\n",
        "list1 = []\n",
        "list2 = []\n",
        "for epoch in range(11):\n",
        "  with torch.no_grad():\n",
        "    for dig, lab in test_set:\n",
        "      dig = dig.reshape(-1, 28, 28).to(device)\n",
        "      result = model(dig)\n",
        "      lab = lab.to(device)\n",
        "      loss = loss_fn(result, lab)\n",
        "      print(\"Epoch - \" + str(epoch) +\", Loss_test - \" + str(loss.item()), end = ' ' )\n",
        "      _, pred = torch.max(result.data, dim=1)\n",
        "      n = (pred==lab).sum().item()\n",
        "      list1.append((1.0*n)/batch_s)\n",
        "      break\n",
        "  for i, (dig, lab) in enumerate(train_set):\n",
        "    dig = dig.reshape(-1, 28, 28).to(device)\n",
        "    result = model(dig)\n",
        "    lab = lab.to(device)\n",
        "    loss = loss_fn(result, lab)\n",
        "    Optim.zero_grad()\n",
        "    loss.backward()\n",
        "    Optim.step()\n",
        "    if i == 0:\n",
        "      result = model(dig)\n",
        "      loss = loss_fn(result, lab)\n",
        "      print(\", Loss_train - \" + str(loss.item()))\n",
        "      _, pred = torch.max(result.data, dim=1)\n",
        "      n = (pred==lab).sum().item()\n",
        "      list2.append((1.0*n)/batch_s)"
      ],
      "metadata": {
        "colab": {
          "base_uri": "https://localhost:8080/"
        },
        "id": "u6odebp4kj0j",
        "outputId": "273dc34e-d089-414f-dc4f-1334beaa96b7"
      },
      "execution_count": 182,
      "outputs": [
        {
          "output_type": "stream",
          "name": "stdout",
          "text": [
            "Epoch - 0, Loss_test - 2.2971954345703125 , Loss_train - 2.2614798545837402\n",
            "Epoch - 1, Loss_test - 0.5193547606468201 , Loss_train - 0.47552230954170227\n",
            "Epoch - 2, Loss_test - 0.26251912117004395 , Loss_train - 0.23688311874866486\n",
            "Epoch - 3, Loss_test - 0.16140630841255188 , Loss_train - 0.12306062877178192\n",
            "Epoch - 4, Loss_test - 0.16225659847259521 , Loss_train - 0.13457895815372467\n",
            "Epoch - 5, Loss_test - 0.2323012799024582 , Loss_train - 0.047955222427845\n",
            "Epoch - 6, Loss_test - 0.16240166127681732 , Loss_train - 0.02486955188214779\n",
            "Epoch - 7, Loss_test - 0.13966543972492218 , Loss_train - 0.0465177446603775\n",
            "Epoch - 8, Loss_test - 0.19878698885440826 , Loss_train - 0.04015025496482849\n",
            "Epoch - 9, Loss_test - 0.3901561498641968 , Loss_train - 0.018482260406017303\n",
            "Epoch - 10, Loss_test - 0.11851607263088226 , Loss_train - 0.04898544400930405\n"
          ]
        }
      ]
    },
    {
      "cell_type": "code",
      "source": [
        "plt.plot(list1, label = 'Sample test cases')\n",
        "plt.plot(list2, label = 'Sample training cases')\n",
        "plt.xlabel(\"Epochs\")\n",
        "plt.legend()\n",
        "plt.ylabel(\"Accuracy\")\n",
        "plt.title(\"Accuracy with Epochs\")\n",
        "plt.show()"
      ],
      "metadata": {
        "colab": {
          "base_uri": "https://localhost:8080/",
          "height": 295
        },
        "id": "o8va4ixEXD3k",
        "outputId": "463816ca-a948-4fa5-eae8-a07af9845eba"
      },
      "execution_count": 183,
      "outputs": [
        {
          "output_type": "display_data",
          "data": {
            "text/plain": [
              "<Figure size 432x288 with 1 Axes>"
            ],
            "image/png": "[encoded data removed]"
          },
          "metadata": {
            "needs_background": "light"
          }
        }
      ]
    },
    {
      "cell_type": "code",
      "source": [
        "with torch.no_grad():\n",
        "  correct = 0\n",
        "  total = 0\n",
        "  for img, lab in test_set:\n",
        "    img=img.reshape(-1,28,28).to(device)\n",
        "    lab=lab.to(device)\n",
        "    outp = model(img)\n",
        "    _, prediction = torch.max(outp.data, dim=1)\n",
        "    correct += (prediction==lab).sum().item()\n",
        "    total += lab.size(0)\n",
        "  print('Test Accuracy of the model on the 10000 test images: {} %'.format((100 * correct)/total))"
      ],
      "metadata": {
        "colab": {
          "base_uri": "https://localhost:8080/"
        },
        "id": "jEUaWQo-nbuZ",
        "outputId": "72482e40-5357-48b3-b185-d6c2d755d2d5"
      },
      "execution_count": 184,
      "outputs": [
        {
          "output_type": "stream",
          "name": "stdout",
          "text": [
            "Test Accuracy of the model on the 10000 test images: 96.995 %\n"
          ]
        }
      ]
    }
  ]
}